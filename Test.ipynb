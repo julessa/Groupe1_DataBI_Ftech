{
 "cells": [
  {
   "cell_type": "code",
   "execution_count": 1,
   "metadata": {},
   "outputs": [
    {
     "name": "stdout",
     "output_type": "stream",
     "text": [
      "Moyenne du prix de clôture pour Bitcoin (BTC) : 34040.24\n",
      "Moyenne du prix de clôture pour S&P 500 : 3396.01\n",
      "Moyenne du prix de clôture pour Or (XAU) : 104.41\n"
     ]
    }
   ],
   "source": [
    "import pandas as pd\n",
    "\n",
    "# Chemins des fichiers\n",
    "btc_file = \"CSV/BTC.csv\"\n",
    "sp500_file = \"CSV/S&P500_filtered.csv\"\n",
    "\n",
    "gold_file = \"CSV/XAU(GOLD)_filtered.csv\"\n",
    "\n",
    "# Fonction pour calculer la moyenne de clôture d'un fichier CSV\n",
    "def calculer_moyenne(fichier, nom_actif):\n",
    "    df = pd.read_csv(fichier)\n",
    "    df.rename(columns={\"Close/Last\": \"Close\"}, inplace=True)  # Standardisation du nom de colonne\n",
    "    moyenne = df[\"Close\"].mean()\n",
    "    print(f\"Moyenne du prix de clôture pour {nom_actif} : {moyenne:.2f}\")\n",
    "\n",
    "# Calcul des moyennes pour chaque actif\n",
    "calculer_moyenne(btc_file, \"Bitcoin (BTC)\")\n",
    "calculer_moyenne(sp500_file, \"S&P 500\")\n",
    "calculer_moyenne(gold_file, \"Or (XAU)\")"
   ]
  },
  {
   "cell_type": "code",
   "execution_count": null,
   "metadata": {},
   "outputs": [],
   "source": []
  }
 ],
 "metadata": {
  "kernelspec": {
   "display_name": "venv",
   "language": "python",
   "name": "python3"
  },
  "language_info": {
   "codemirror_mode": {
    "name": "ipython",
    "version": 3
   },
   "file_extension": ".py",
   "mimetype": "text/x-python",
   "name": "python",
   "nbconvert_exporter": "python",
   "pygments_lexer": "ipython3",
   "version": "3.13.1"
  }
 },
 "nbformat": 4,
 "nbformat_minor": 2
}
