{
 "cells": [
  {
   "cell_type": "code",
   "execution_count": 1,
   "metadata": {},
   "outputs": [],
   "source": [
    "import os\n",
    "import pandas as pd\n",
    "import yfinance as yf\n"
   ]
  },
  {
   "cell_type": "code",
   "execution_count": null,
   "metadata": {},
   "outputs": [
    {
     "name": "stderr",
     "output_type": "stream",
     "text": [
      "[*********************100%***********************]  1 of 1 completed\n"
     ]
    },
    {
     "name": "stdout",
     "output_type": "stream",
     "text": [
      "Price        Date   Close/Last         High          Low         Open Volume\n",
      "Ticker                    GC=F         GC=F         GC=F         GC=F   GC=F\n",
      "0      2015-01-02  1186.000000  1194.500000  1169.500000  1184.000000    138\n",
      "1      2015-01-05  1203.900024  1206.900024  1180.099976  1180.300049    470\n",
      "2      2015-01-06  1219.300049  1220.000000  1203.500000  1203.500000     97\n",
      "3      2015-01-07  1210.599976  1219.199951  1210.599976  1219.199951     29\n",
      "4      2015-01-08  1208.400024  1215.699951  1206.300049  1207.000000     92\n",
      "Données sauvegardées dans gold_prices.csv\n"
     ]
    },
    {
     "name": "stderr",
     "output_type": "stream",
     "text": [
      "[*********************100%***********************]  1 of 1 completed"
     ]
    },
    {
     "name": "stdout",
     "output_type": "stream",
     "text": [
      "Price        Date  Close/Last        High         Low        Open    Volume\n",
      "Ticker                BTC-USD     BTC-USD     BTC-USD     BTC-USD   BTC-USD\n",
      "0      2015-01-01  314.248993  320.434998  314.002991  320.434998   8036550\n",
      "1      2015-01-02  315.032013  315.838989  313.565002  314.079010   7860650\n",
      "2      2015-01-03  281.082001  315.149994  281.082001  314.846008  33054400\n",
      "3      2015-01-04  264.195007  287.230011  257.612000  281.145996  55629100\n",
      "4      2015-01-05  274.473999  278.341003  265.084015  265.084015  43962800\n",
      "Données sauvegardées dans bitcoin_prices.csv\n"
     ]
    },
    {
     "name": "stderr",
     "output_type": "stream",
     "text": [
      "\n"
     ]
    }
   ],
   "source": [
    "def fetch_gold_prices():\n",
    "    # Téléchargement des données depuis Yahoo Finance\n",
    "    gold_data = yf.download(\"GC=F\", start=\"2015-01-01\", end=\"2025-02-07\")\n",
    "    \n",
    "    # Renommage des colonnes selon le format demandé\n",
    "    gold_prices = gold_data.rename(columns={\n",
    "        \"Close\": \"Close/Last\",\n",
    "        \"Open\": \"Open\",\n",
    "        \"High\": \"High\",\n",
    "        \"Low\": \"Low\"\n",
    "    })\n",
    "    \n",
    "    # Réinitialisation de l'index pour inclure la date comme colonne\n",
    "    gold_prices.reset_index(inplace=True)\n",
    "    gold_prices.rename(columns={\"Date\": \"Date\"}, inplace=True)\n",
    "    \n",
    "    return gold_prices\n",
    "\n",
    "def fetch_bitcoin_prices():\n",
    "    # Téléchargement des données Bitcoin depuis Yahoo Finance\n",
    "    btc_data = yf.download(\"BTC-USD\", period=\"5y\", interval=\"1d\")\n",
    "    \n",
    "    # Renommage des colonnes selon le format demandé\n",
    "    btc_prices = btc_data.rename(columns={\n",
    "        \"Close\": \"Close/Last\",\n",
    "        \"Open\": \"Open\",\n",
    "        \"High\": \"High\",\n",
    "        \"Low\": \"Low\"\n",
    "    })\n",
    "    \n",
    "    # Réinitialisation de l'index pour inclure la date comme colonne\n",
    "    btc_prices.reset_index(inplace=True)\n",
    "    btc_prices.rename(columns={\"Date\": \"Date\"}, inplace=True)\n",
    "    \n",
    "    return btc_prices\n",
    "\n",
    "def main():\n",
    "    # Traitement des données Gold\n",
    "    gold_data = fetch_gold_prices()\n",
    "    if gold_data is not None:\n",
    "        print(gold_data.head())  # Affichage des premières lignes\n",
    "        gold_data.to_csv(\"gold_prices.csv\", index=False)\n",
    "        print(\"Données sauvegardées dans gold_prices.csv\")\n",
    "    \n",
    "    # Traitement des données Bitcoin\n",
    "    btc_data = fetch_bitcoin_prices()\n",
    "    if btc_data is not None:\n",
    "        print(btc_data.head())  # Affichage des premières lignes\n",
    "        btc_data.to_csv(\"bitcoin_prices.csv\", index=False)\n",
    "        print(\"Données sauvegardées dans bitcoin_prices.csv\")\n",
    "\n",
    "if __name__ == \"__main__\":\n",
    "    main()"
   ]
  },
  {
   "cell_type": "code",
   "execution_count": null,
   "metadata": {},
   "outputs": [],
   "source": []
  }
 ],
 "metadata": {
  "kernelspec": {
   "display_name": "Python 3",
   "language": "python",
   "name": "python3"
  },
  "language_info": {
   "codemirror_mode": {
    "name": "ipython",
    "version": 3
   },
   "file_extension": ".py",
   "mimetype": "text/x-python",
   "name": "python",
   "nbconvert_exporter": "python",
   "pygments_lexer": "ipython3",
   "version": "3.10.11"
  }
 },
 "nbformat": 4,
 "nbformat_minor": 2
}
