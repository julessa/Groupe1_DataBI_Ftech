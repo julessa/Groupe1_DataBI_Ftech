{
 "cells": [
  {
   "cell_type": "code",
   "execution_count": null,
   "metadata": {},
   "outputs": [],
   "source": []
  },
  {
   "cell_type": "code",
   "execution_count": 46,
   "metadata": {},
   "outputs": [],
   "source": [
    "import pandas as pd"
   ]
  },
  {
   "cell_type": "code",
   "execution_count": 45,
   "metadata": {},
   "outputs": [
    {
     "name": "stdout",
     "output_type": "stream",
     "text": [
      "\n",
      "=== Traitement du fichier : ../CSV/S&P500.csv ===\n",
      "Nombre de lignes avant filtrage : 2522\n",
      "Colonnes détectées : ['Date', 'Close/Last', 'Open', 'High', 'Low']\n",
      "Nombre de lignes à filtrer (Open, High et Low égales à 0.00) : 7\n",
      "Nombre de lignes après filtrage : 2515\n",
      "Fichier sauvegardé avec succès : ../CSV/S&P500_filtered.csv\n",
      "\n",
      "=== Traitement du fichier : ../CSV/XAU(GOLD).csv ===\n",
      "Nombre de lignes avant filtrage : 2522\n",
      "Colonnes détectées : ['Date', 'Close/Last', 'Open', 'High', 'Low']\n",
      "Nombre de lignes à filtrer (Open, High et Low égales à 0.00) : 7\n",
      "Nombre de lignes après filtrage : 2515\n",
      "Fichier sauvegardé avec succès : ../CSV/XAU(GOLD)_filtered.csv\n",
      "\n",
      "Traitement terminé pour tous les fichiers.\n"
     ]
    }
   ],
   "source": [
    "# Chemins relatifs (exécuté depuis Jules/ ; CSV/ est au même niveau que Jules/)\n",
    "fichier1 = \"../CSV/S&P500.csv\"\n",
    "fichier2 = \"../CSV/XAU(GOLD).csv\"\n",
    "\n",
    "# Liste des fichiers à traiter\n",
    "fichiers = [fichier1, fichier2]\n",
    "\n",
    "for fichier in fichiers:\n",
    "    print(f\"\\n=== Traitement du fichier : {fichier} ===\")\n",
    "    try:\n",
    "        # Lecture du CSV en considérant la première ligne comme en-tête\n",
    "        df = pd.read_csv(fichier, header=0)\n",
    "        print(\"Nombre de lignes avant filtrage :\", len(df))\n",
    "        print(\"Colonnes détectées :\", df.columns.tolist())\n",
    "    except Exception as e:\n",
    "        print(\"Erreur lors de la lecture du fichier :\", fichier)\n",
    "        print(\"Détails :\", e)\n",
    "        continue\n",
    "\n",
    "    try:\n",
    "        # Conversion explicite des colonnes \"Open\", \"High\" et \"Low\" en type float\n",
    "        df[[\"Open\", \"High\", \"Low\"]] = df[[\"Open\", \"High\", \"Low\"]].astype(float)\n",
    "    except Exception as e:\n",
    "        print(\"Erreur lors de la conversion des colonnes en float dans le fichier :\", fichier)\n",
    "        print(\"Détails :\", e)\n",
    "        continue\n",
    "\n",
    "    try:\n",
    "        # Création du masque pour sélectionner les lignes où les colonnes \"Open\", \"High\" et \"Low\" valent toutes 0.00\n",
    "        masque = (df[\"Open\"] == 0.00) & (df[\"High\"] == 0.00) & (df[\"Low\"] == 0.00)\n",
    "        nb_lignes_a_filtrer = masque.sum()\n",
    "        print(\"Nombre de lignes à filtrer (Open, High et Low égales à 0.00) :\", nb_lignes_a_filtrer)\n",
    "        \n",
    "        # Filtrage : supprimer les lignes pour lesquelles le masque est True\n",
    "        df_filtre = df[~masque]\n",
    "        print(\"Nombre de lignes après filtrage :\", len(df_filtre))\n",
    "    except Exception as e:\n",
    "        print(\"Erreur lors du filtrage du fichier :\", fichier)\n",
    "        print(\"Détails :\", e)\n",
    "        continue\n",
    "\n",
    "    try:\n",
    "        # Création d'un nouveau nom de fichier en ajoutant le suffixe \"_filtered\"\n",
    "        nouveau_fichier = fichier.replace(\".csv\", \"_filtered.csv\")\n",
    "        # Sauvegarde du DataFrame filtré dans un nouveau fichier (avec en-tête)\n",
    "        df_filtre.to_csv(nouveau_fichier, index=False)\n",
    "        print(\"Fichier sauvegardé avec succès :\", nouveau_fichier)\n",
    "    except Exception as e:\n",
    "        print(\"Erreur lors de la sauvegarde du fichier :\", fichier)\n",
    "        print(\"Détails :\", e)\n",
    "        continue\n",
    "\n",
    "print(\"\\nTraitement terminé pour tous les fichiers.\")\n"
   ]
  }
 ],
 "metadata": {
  "kernelspec": {
   "display_name": "Python 3",
   "language": "python",
   "name": "python3"
  },
  "language_info": {
   "codemirror_mode": {
    "name": "ipython",
    "version": 3
   },
   "file_extension": ".py",
   "mimetype": "text/x-python",
   "name": "python",
   "nbconvert_exporter": "python",
   "pygments_lexer": "ipython3",
   "version": "3.10.11"
  }
 },
 "nbformat": 4,
 "nbformat_minor": 2
}
