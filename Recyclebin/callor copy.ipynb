{
 "cells": [
  {
   "cell_type": "code",
   "execution_count": 3,
   "metadata": {},
   "outputs": [],
   "source": [
    "import os\n",
    "import pandas as pd\n",
    "import yfinance as yf\n"
   ]
  },
  {
   "cell_type": "code",
   "execution_count": 4,
   "metadata": {},
   "outputs": [
    {
     "name": "stderr",
     "output_type": "stream",
     "text": [
      "[*********************100%***********************]  1 of 1 completed\n"
     ]
    },
    {
     "name": "stdout",
     "output_type": "stream",
     "text": [
      "Price        Date   Close/Last         High          Low         Open Volume\n",
      "Ticker                    GC=F         GC=F         GC=F         GC=F   GC=F\n",
      "0      2015-01-02  1186.000000  1194.500000  1169.500000  1184.000000    138\n",
      "1      2015-01-05  1203.900024  1206.900024  1180.099976  1180.300049    470\n",
      "2      2015-01-06  1219.300049  1220.000000  1203.500000  1203.500000     97\n",
      "3      2015-01-07  1210.599976  1219.199951  1210.599976  1219.199951     29\n",
      "4      2015-01-08  1208.400024  1215.699951  1206.300049  1207.000000     92\n",
      "Données sauvegardées dans gold_prices.csv\n"
     ]
    },
    {
     "name": "stderr",
     "output_type": "stream",
     "text": [
      "[*********************100%***********************]  1 of 1 completed"
     ]
    },
    {
     "name": "stdout",
     "output_type": "stream",
     "text": [
      "Price        Date    Close/Last          High           Low          Open  \\\n",
      "Ticker                  BTC-USD       BTC-USD       BTC-USD       BTC-USD   \n",
      "0      2020-02-12  10326.054688  10393.611328  10202.387695  10202.387695   \n",
      "1      2020-02-13  10214.379883  10457.626953  10116.161133  10323.960938   \n",
      "2      2020-02-14  10312.116211  10321.996094  10125.534180  10211.550781   \n",
      "3      2020-02-15   9889.424805  10341.555664   9874.427734  10313.856445   \n",
      "4      2020-02-16   9934.433594  10053.968750   9722.386719   9889.179688   \n",
      "\n",
      "Price        Volume  \n",
      "Ticker      BTC-USD  \n",
      "0       43444303830  \n",
      "1       49356071373  \n",
      "2       43338264162  \n",
      "3       43865054831  \n",
      "4       43374780305  \n",
      "Données sauvegardées dans bitcoin_prices.csv\n"
     ]
    },
    {
     "name": "stderr",
     "output_type": "stream",
     "text": [
      "\n"
     ]
    }
   ],
   "source": [
    "def fetch_gold_prices():\n",
    "    # Téléchargement des données depuis Yahoo Finance\n",
    "    gold_data = yf.download(\"GC=F\", start=\"2015-01-01\", end=\"2025-02-07\")\n",
    "    \n",
    "    # Renommage des colonnes selon le format demandé\n",
    "    gold_prices = gold_data.rename(columns={\n",
    "        \"Close\": \"Close/Last\",\n",
    "        \"Open\": \"Open\",\n",
    "        \"High\": \"High\",\n",
    "        \"Low\": \"Low\"\n",
    "    })\n",
    "    \n",
    "    # Réinitialisation de l'index pour inclure la date comme colonne\n",
    "    gold_prices.reset_index(inplace=True)\n",
    "    gold_prices.rename(columns={\"Date\": \"Date\"}, inplace=True)\n",
    "    \n",
    "    return gold_prices\n",
    "\n",
    "def fetch_bitcoin_prices():\n",
    "    # Téléchargement des données Bitcoin depuis Yahoo Finance\n",
    "    btc_data = yf.download(\"BTC-USD\", period=\"5y\", interval=\"1d\")\n",
    "    \n",
    "    # Renommage des colonnes selon le format demandé\n",
    "    btc_prices = btc_data.rename(columns={\n",
    "        \"Close\": \"Close/Last\",\n",
    "        \"Open\": \"Open\",\n",
    "        \"High\": \"High\",\n",
    "        \"Low\": \"Low\"\n",
    "    })\n",
    "    \n",
    "    # Réinitialisation de l'index pour inclure la date comme colonne\n",
    "    btc_prices.reset_index(inplace=True)\n",
    "    btc_prices.rename(columns={\"Date\": \"Date\"}, inplace=True)\n",
    "    \n",
    "    return btc_prices\n",
    "\n",
    "def main():\n",
    "    # Traitement des données Gold\n",
    "    gold_data = fetch_gold_prices()\n",
    "    if gold_data is not None:\n",
    "        print(gold_data.head())  # Affichage des premières lignes\n",
    "        gold_data.to_csv(\"gold_prices.csv\", index=False)\n",
    "        print(\"Données sauvegardées dans gold_prices.csv\")\n",
    "    \n",
    "    # Traitement des données Bitcoin\n",
    "    btc_data = fetch_bitcoin_prices()\n",
    "    if btc_data is not None:\n",
    "        print(btc_data.head())  # Affichage des premières lignes\n",
    "        btc_data.to_csv(\"bitcoin_prices.csv\", index=False)\n",
    "        print(\"Données sauvegardées dans bitcoin_prices.csv\")\n",
    "\n",
    "if __name__ == \"__main__\":\n",
    "    main()"
   ]
  },
  {
   "cell_type": "code",
   "execution_count": null,
   "metadata": {},
   "outputs": [],
   "source": []
  }
 ],
 "metadata": {
  "kernelspec": {
   "display_name": "Python 3",
   "language": "python",
   "name": "python3"
  },
  "language_info": {
   "codemirror_mode": {
    "name": "ipython",
    "version": 3
   },
   "file_extension": ".py",
   "mimetype": "text/x-python",
   "name": "python",
   "nbconvert_exporter": "python",
   "pygments_lexer": "ipython3",
   "version": "3.10.11"
  }
 },
 "nbformat": 4,
 "nbformat_minor": 2
}
