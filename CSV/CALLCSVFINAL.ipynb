{
 "cells": [
  {
   "cell_type": "code",
   "execution_count": 4,
   "metadata": {},
   "outputs": [],
   "source": [
    "import yfinance as yf\n",
    "import pandas as pd"
   ]
  },
  {
   "cell_type": "code",
   "execution_count": 5,
   "metadata": {},
   "outputs": [
    {
     "name": "stdout",
     "output_type": "stream",
     "text": [
      "📥 Récupération des données pour Bitcoin...\n"
     ]
    },
    {
     "name": "stderr",
     "output_type": "stream",
     "text": [
      "[*********************100%***********************]  1 of 1 completed\n"
     ]
    },
    {
     "name": "stdout",
     "output_type": "stream",
     "text": [
      "✅ Données enregistrées dans df_btc.csv\n",
      "📥 Récupération des données pour S&P 500...\n"
     ]
    },
    {
     "name": "stderr",
     "output_type": "stream",
     "text": [
      "[*********************100%***********************]  1 of 1 completed\n",
      "[*********************100%***********************]  1 of 1 completed"
     ]
    },
    {
     "name": "stdout",
     "output_type": "stream",
     "text": [
      "✅ Données enregistrées dans df_sp500.csv\n",
      "📥 Récupération des données pour Gold...\n",
      "✅ Données enregistrées dans df_gold.csv\n",
      "\n",
      "🚀 Tous les fichiers CSV ont été générés avec succès !\n"
     ]
    },
    {
     "name": "stderr",
     "output_type": "stream",
     "text": [
      "\n"
     ]
    }
   ],
   "source": [
    "# ✅ Définir les actifs et leurs symboles Yahoo Finance\n",
    "assets = {\n",
    "    \"Bitcoin\": \"BTC-USD\",  # Bitcoin en dollars\n",
    "    \"S&P 500\": \"^GSPC\",    # Indice S&P 500\n",
    "    \"Gold\": \"GC=F\"         # Futures sur l'or\n",
    "}\n",
    "\n",
    "# ✅ Définir les noms de fichiers CSV\n",
    "csv_files = {\n",
    "    \"Bitcoin\": \"df_btc.csv\",\n",
    "    \"S&P 500\": \"df_sp500.csv\",\n",
    "    \"Gold\": \"df_gold.csv\"\n",
    "}\n",
    "\n",
    "# ✅ Définir la période des données (depuis 2015 jusqu'à aujourd'hui)\n",
    "start_date = \"2015-01-01\"\n",
    "end_date = None  # None = jusqu'à aujourd'hui\n",
    "\n",
    "# ✅ Boucle pour récupérer les données et enregistrer chaque actif\n",
    "for asset_name, ticker in assets.items():\n",
    "    print(f\"📥 Récupération des données pour {asset_name}...\")\n",
    "\n",
    "    # Récupérer les données avec yfinance\n",
    "    df = yf.download(ticker, period=\"5y\", interval=\"1d\")\n",
    "\n",
    "    # Renommer les colonnes pour correspondre au format demandé\n",
    "    df = df.rename(columns={\n",
    "        \"Close\": \"Close/Last\",\n",
    "        \"High\": \"High\",\n",
    "        \"Low\": \"Low\",\n",
    "        \"Open\": \"Open\",\n",
    "        \"Volume\": \"Volume\"\n",
    "    })\n",
    "\n",
    "    # Ajouter la colonne \"Date\" en tant que première colonne\n",
    "    df.reset_index(inplace=True)\n",
    "\n",
    "    # Enregistrer en CSV\n",
    "    df.to_csv(csv_files[asset_name], index=False)\n",
    "    print(f\"✅ Données enregistrées dans {csv_files[asset_name]}\")\n",
    "\n",
    "print(\"\\n🚀 Tous les fichiers CSV ont été générés avec succès !\")"
   ]
  }
 ],
 "metadata": {
  "kernelspec": {
   "display_name": "Python 3",
   "language": "python",
   "name": "python3"
  },
  "language_info": {
   "codemirror_mode": {
    "name": "ipython",
    "version": 3
   },
   "file_extension": ".py",
   "mimetype": "text/x-python",
   "name": "python",
   "nbconvert_exporter": "python",
   "pygments_lexer": "ipython3",
   "version": "3.10.11"
  }
 },
 "nbformat": 4,
 "nbformat_minor": 2
}
