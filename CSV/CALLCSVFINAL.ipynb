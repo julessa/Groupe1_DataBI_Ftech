{
 "cells": [
  {
   "cell_type": "code",
   "execution_count": 2,
   "metadata": {},
   "outputs": [],
   "source": [
    "import yfinance as yf\n",
    "import pandas as pd"
   ]
  },
  {
   "cell_type": "code",
   "execution_count": null,
   "metadata": {},
   "outputs": [
    {
     "ename": "SyntaxError",
     "evalue": "keyword argument repeated: period (3143077636.py, line 24)",
     "output_type": "error",
     "traceback": [
      "\u001b[1;36m  Cell \u001b[1;32mIn [3], line 24\u001b[1;36m\u001b[0m\n\u001b[1;33m    df = yf.download(ticker, period=\"5y\", period=\"1d\")\u001b[0m\n\u001b[1;37m                                          ^\u001b[0m\n\u001b[1;31mSyntaxError\u001b[0m\u001b[1;31m:\u001b[0m keyword argument repeated: period\n"
     ]
    }
   ],
   "source": [
    "# ✅ Définir les actifs et leurs symboles Yahoo Finance\n",
    "assets = {\n",
    "    \"Bitcoin\": \"BTC-USD\",  # Bitcoin en dollars\n",
    "    \"S&P 500\": \"^GSPC\",    # Indice S&P 500\n",
    "    \"Gold\": \"GC=F\"         # Futures sur l'or\n",
    "}\n",
    "\n",
    "# ✅ Définir les noms de fichiers CSV\n",
    "csv_files = {\n",
    "    \"Bitcoin\": \"df_btc.csv\",\n",
    "    \"S&P 500\": \"df_sp500.csv\",\n",
    "    \"Gold\": \"df_gold.csv\"\n",
    "}\n",
    "\n",
    "# ✅ Définir la période des données (depuis 2015 jusqu'à aujourd'hui)\n",
    "start_date = \"2015-01-01\"\n",
    "end_date = None  # None = jusqu'à aujourd'hui\n",
    "\n",
    "# ✅ Boucle pour récupérer les données et enregistrer chaque actif\n",
    "for asset_name, ticker in assets.items():\n",
    "    print(f\"📥 Récupération des données pour {asset_name}...\")\n",
    "\n",
    "    # Récupérer les données avec yfinance\n",
    "    df = yf.download(ticker, period=\"5y\", interval=\"1d\")\n",
    "\n",
    "    # Renommer les colonnes pour correspondre au format demandé\n",
    "    df = df.rename(columns={\n",
    "        \"Close\": \"Close/Last\",\n",
    "        \"High\": \"High\",\n",
    "        \"Low\": \"Low\",\n",
    "        \"Open\": \"Open\",\n",
    "        \"Volume\": \"Volume\"\n",
    "    })\n",
    "\n",
    "    # Ajouter la colonne \"Date\" en tant que première colonne\n",
    "    df.reset_index(inplace=True)\n",
    "\n",
    "    # Enregistrer en CSV\n",
    "    df.to_csv(csv_files[asset_name], index=False)\n",
    "    print(f\"✅ Données enregistrées dans {csv_files[asset_name]}\")\n",
    "\n",
    "print(\"\\n🚀 Tous les fichiers CSV ont été générés avec succès !\")"
   ]
  }
 ],
 "metadata": {
  "kernelspec": {
   "display_name": "Python 3",
   "language": "python",
   "name": "python3"
  },
  "language_info": {
   "codemirror_mode": {
    "name": "ipython",
    "version": 3
   },
   "file_extension": ".py",
   "mimetype": "text/x-python",
   "name": "python",
   "nbconvert_exporter": "python",
   "pygments_lexer": "ipython3",
   "version": "3.10.11"
  }
 },
 "nbformat": 4,
 "nbformat_minor": 2
}
